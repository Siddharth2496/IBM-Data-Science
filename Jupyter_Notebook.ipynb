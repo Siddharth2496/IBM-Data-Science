{
 "cells": [
  {
   "cell_type": "markdown",
   "id": "ffacac13",
   "metadata": {},
   "source": [
    "<center>\n",
    "    <img src=\"https://cf-courses-data.s3.us.cloud-object-storage.appdomain.cloud/IBMDeveloperSkillsNetwork-DS0105EN-SkillsNetwork/labs/Module2/images/SN_web_lightmode.png\" width=\"300\" alt=\"cognitiveclass.ai logo\"  />\n",
    "</center>"
   ]
  },
  {
   "cell_type": "markdown",
   "id": "c2949361",
   "metadata": {},
   "source": [
    "<h1>My Jupyter Notebook on IBM Watson Studio</h1>"
   ]
  },
  {
   "cell_type": "markdown",
   "id": "3101f2d7",
   "metadata": {},
   "source": [
    "<b>Siddharth Sharma</b>"
   ]
  },
  {
   "cell_type": "markdown",
   "id": "fb45f223",
   "metadata": {},
   "source": [
    "Data Scientist"
   ]
  },
  {
   "cell_type": "markdown",
   "id": "95850297",
   "metadata": {},
   "source": [
    "<i>I am interested in data science because I would love to contribute towards affordable and quality healthcare in the future</i>"
   ]
  },
  {
   "cell_type": "markdown",
   "id": "ed204980",
   "metadata": {},
   "source": [
    "<h3>The below should print 'Hello World'</h3>"
   ]
  },
  {
   "cell_type": "code",
   "execution_count": 1,
   "id": "235ed954",
   "metadata": {},
   "outputs": [
    {
     "name": "stdout",
     "output_type": "stream",
     "text": [
      "Hello World\n"
     ]
    }
   ],
   "source": [
    "print(\"Hello World\")"
   ]
  },
  {
   "cell_type": "markdown",
   "id": "15896755",
   "metadata": {},
   "source": [
    "<blockquote>We all have two lives. The second one starts when we realize that we only have one.</blockquote>\n",
    "<ul>\n",
    "    <li>IBM Data Science Professional Certificate</li>\n",
    "    <li><a href=\"https://www.coursera.org/professional-certificates/ibm-data-science?\">Course Link</a></li>\n",
    "</ul>"
   ]
  },
  {
   "cell_type": "markdown",
   "id": "82b43dc9",
   "metadata": {},
   "source": []
  }
 ],
 "metadata": {
  "kernelspec": {
   "display_name": "Python 3",
   "language": "python",
   "name": "python3"
  },
  "language_info": {
   "codemirror_mode": {
    "name": "ipython",
    "version": 3
   },
   "file_extension": ".py",
   "mimetype": "text/x-python",
   "name": "python",
   "nbconvert_exporter": "python",
   "pygments_lexer": "ipython3",
   "version": "3.8.8"
  }
 },
 "nbformat": 4,
 "nbformat_minor": 5
}
